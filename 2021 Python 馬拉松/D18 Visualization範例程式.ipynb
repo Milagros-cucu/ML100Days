{
 "cells": [
  {
   "cell_type": "markdown",
   "metadata": {
    "colab_type": "text",
    "id": "7WpTwrIPwPA5"
   },
   "source": [
    "# 教學目標 \n",
    "\n",
    "主要說明matplotlib 的基礎操作\n",
    "\n",
    "1. 使用常見的子圖與軸圖來做畫面配置\n",
    "\n",
    "2. 等高線圖\n",
    "\n",
    "# 範例重點\n",
    "\n",
    "如何使用亂數, 資料集來操作\n"
   ]
  },
  {
   "cell_type": "markdown",
   "metadata": {},
   "source": [
    "# 資料視覺化的好處"
   ]
  },
  {
   "cell_type": "markdown",
   "metadata": {},
   "source": [
    "在分析的過程中\n",
    "\n",
    "* 比方說用熱點圖來看你的 Deep learning 的 model 是對圖片中哪一部分的看得較重要，可以降維之後將資料視覺化去看資料在空間中的分佈\n",
    "\n",
    "\n",
    "呈現成果，以利於表達資料處理結果\n",
    "* 篩選及醒目提示資料\n",
    "* 結果呈現\n",
    "\n",
    "\n",
    "視覺化的前置工作\n",
    "* 制定好題目先有清楚目的才有好視覺化\n",
    "* 釐清測量尺度\n",
    "* 資料處理與探勘\n"
   ]
  },
  {
   "cell_type": "markdown",
   "metadata": {},
   "source": [
    "# Python 資料視覺化主要套件"
   ]
  },
  {
   "cell_type": "markdown",
   "metadata": {},
   "source": [
    "Matplotlib (靜態的套件)：基礎 2D 及 3D 可視化\n",
    "\n",
    "* 是一個最基礎的 Python 可視化庫，作圖風格接近 MATLAB，所以稱為 matplotlib。 一般都是從 matplotlib 上手 Python 數據可視化，然後開始做縱向與橫向拓展。\n",
    "\n",
    "*  matplotlib 的圖像都位於 Figure 物件中\n",
    "\n",
    "基礎的套件\n",
    "*    精典圖表(直方、分箱、…), 多重子圖表(subplot)\n",
    "*    其他圖型: 密度圖、等高線圖"
   ]
  },
  {
   "cell_type": "markdown",
   "metadata": {},
   "source": [
    "Seaborn：基礎 2D 及 3D 可視化\n",
    "\n",
    "* 是一個基於 matplotlib 的進階視覺化效果庫，針對的點主要是資料挖掘和機器學習中的變數特徵選取，seaborn 可以用短小的代碼去繪製描述更多維度資料的可視化效果圖。\n",
    "\n",
    "\n",
    "Seaborn (靜態的套件)\n",
    "* 可以搭配 Matplotlib 建構更直觀的視覺化效果\n",
    "* 客製化圖表，進行統計數據可視化：圖表風格與顏色主題 圖表的分面繪製"
   ]
  },
  {
   "cell_type": "markdown",
   "metadata": {},
   "source": [
    "Bokeh：交互資訊可視化\n",
    "\n",
    "* 數據分析的一個業務場景就是用數據講故事，交互資訊可視化的工具就在此凸顯出了優勢。\n",
    "* 是一個用於做瀏覽器端交互可視化的庫，實現分析師與數據的交互。\n",
    "\n",
    "\n",
    "Bokeh (動態的套件，類似於 D3.js)\n",
    "* 不再需要編輯 HTML 與 JavaScript 便能製作網頁前端視覺化。"
   ]
  },
  {
   "cell_type": "markdown",
   "metadata": {},
   "source": [
    "Basemap：地圖可視化\n",
    "\n",
    "* 地理資訊數據也會是部分數據分析師的業務場景。 \n",
    "* 對於這類數據，可能傳統的 matplotlib/seaborn，互動屬性的 bokeh 無法很好地對這類數據進行處理。我們需要使用處理地理數據引擎更強的可視化工具庫。"
   ]
  },
  {
   "cell_type": "code",
   "execution_count": 2,
   "metadata": {},
   "outputs": [
    {
     "name": "stdout",
     "output_type": "stream",
     "text": [
      "Requirement already satisfied: matplotlib in /opt/anaconda3/lib/python3.8/site-packages (3.3.2)\n",
      "Requirement already satisfied: numpy>=1.15 in /opt/anaconda3/lib/python3.8/site-packages (from matplotlib) (1.19.2)\n",
      "Requirement already satisfied: pillow>=6.2.0 in /opt/anaconda3/lib/python3.8/site-packages (from matplotlib) (8.0.1)\n",
      "Requirement already satisfied: kiwisolver>=1.0.1 in /opt/anaconda3/lib/python3.8/site-packages (from matplotlib) (1.3.0)\n",
      "Requirement already satisfied: cycler>=0.10 in /opt/anaconda3/lib/python3.8/site-packages (from matplotlib) (0.10.0)\n",
      "Requirement already satisfied: python-dateutil>=2.1 in /opt/anaconda3/lib/python3.8/site-packages (from matplotlib) (2.8.1)\n",
      "Requirement already satisfied: certifi>=2020.06.20 in /opt/anaconda3/lib/python3.8/site-packages (from matplotlib) (2020.6.20)\n",
      "Requirement already satisfied: pyparsing!=2.0.4,!=2.1.2,!=2.1.6,>=2.0.3 in /opt/anaconda3/lib/python3.8/site-packages (from matplotlib) (2.4.7)\n",
      "Requirement already satisfied: six in /opt/anaconda3/lib/python3.8/site-packages (from cycler>=0.10->matplotlib) (1.15.0)\n"
     ]
    }
   ],
   "source": [
    "!pip install matplotlib"
   ]
  },
  {
   "cell_type": "markdown",
   "metadata": {},
   "source": [
    "# Matplotlib 操作方式"
   ]
  },
  {
   "cell_type": "markdown",
   "metadata": {},
   "source": [
    "Matplotlib 的全域 pyplot 模組互動操作\n",
    "\n",
    "* 若是只有一張圖的話\n",
    "* import matplotlib.pyplot as plt \n",
    "\n",
    "\n",
    "物件導向形式的操作方式\n",
    "* 若是有多張圖的話\n",
    "* 透過控制 figure (*.SVG)和 axis (資料維度) 來操作。\n",
    "* 其中 figure 和全域 pyplot 部分屬性相同。例如： fig.text() 對應到 plt.fig_text()"
   ]
  },
  {
   "cell_type": "markdown",
   "metadata": {},
   "source": [
    "# 舉例說明 Example "
   ]
  },
  {
   "cell_type": "code",
   "execution_count": 3,
   "metadata": {
    "colab": {},
    "colab_type": "code",
    "id": "u_C6XjFlwPA5",
    "outputId": "6b27d09c-47b8-49e9-c412-6ce91b0b2b9a"
   },
   "outputs": [
    {
     "data": {
      "image/png": "[encoded data removed]",
      "text/plain": [
       "<Figure size 432x288 with 1 Axes>"
      ]
     },
     "metadata": {
      "needs_background": "light"
     },
     "output_type": "display_data"
    }
   ],
   "source": [
    "# 載入需要的...\n",
    "import matplotlib.pyplot as plt\n",
    "import numpy as np\n",
    "\n",
    "# 準備數據 ... 假設我要畫一個sin波 從0~180度\n",
    "x = np.arange(0,180)\n",
    "y = np.sin(x * np.pi / 180.0)\n",
    "\n",
    "# 開始畫圖\n",
    "# 設定要畫的的x,y數據list....\n",
    "\n",
    "plt.plot(x,y)\n",
    "# 在這個指令之前，都還在做畫圖的動作  \n",
    "# 這個指令算是 \"秀圖\"\n",
    "\n",
    "plt.show() \n"
   ]
  },
  {
   "cell_type": "code",
   "execution_count": null,
   "metadata": {
    "colab": {},
    "colab_type": "code",
    "id": "HkerUPvOwPA-",
    "outputId": "22cda52b-1495-4a2f-ba5f-13ba3fe3b509"
   },
   "outputs": [
    {
     "data": {
      "image/png": "[encoded data removed]",
      "text/plain": [
       "<Figure size 432x288 with 1 Axes>"
      ]
     },
     "metadata": {
      "needs_background": "light",
      "tags": []
     },
     "output_type": "display_data"
    }
   ],
   "source": [
    "# 載入需要的...\n",
    "import matplotlib.pyplot as plt\n",
    "import numpy as np\n",
    "# 準備數據 ... 假設我要畫一個sin波 從0~180度\n",
    "x = np.arange(0,180)\n",
    "y = np.sin(x * np.pi / 180.0)\n",
    "\n",
    "# 開始畫圖\n",
    "# 設定要畫的的x,y數據list....\n",
    "\n",
    "plt.plot(x,y)\n",
    "# 設定圖的範圍, 不設的話，系統會自行決定\n",
    "plt.xlim(-30,390)\n",
    "plt.ylim(-1.5,1.5)\n",
    "\n",
    "# 照需要寫入x 軸和y軸的 label 以及title\n",
    "\n",
    "plt.xlabel(\"x-axis\")\n",
    "plt.ylabel(\"y-axis\")\n",
    "plt.title(\"The Title\") \n",
    "\n",
    "# 在這個指令之前，都還在做畫圖的動作\n",
    "# 這個指令算是 \"秀圖\"\n",
    "plt.show()\n"
   ]
  },
  {
   "cell_type": "markdown",
   "metadata": {
    "colab_type": "text",
    "id": "3Xi7N-1vwPBA"
   },
   "source": [
    "# 散點圖: Scatter Plots\n",
    "    \n",
    "顏色由（X，Y）的角度給出。\n",
    "\n",
    "注意標記的大小，顏色和透明度。"
   ]
  },
  {
   "cell_type": "code",
   "execution_count": 6,
   "metadata": {
    "colab": {},
    "colab_type": "code",
    "id": "8FpoOD91wPBB",
    "outputId": "2ddd92d3-0213-48f2-8773-a8a285f89cdd"
   },
   "outputs": [
    {
     "data": {
      "image/png": "[encoded data removed]",
      "text/plain": [
       "<Figure size 432x288 with 1 Axes>"
      ]
     },
     "metadata": {
      "needs_background": "light"
     },
     "output_type": "display_data"
    }
   ],
   "source": [
    "\n",
    "import numpy as np\n",
    "import matplotlib.pyplot as plt\n",
    "\n",
    "n = 1024\n",
    "X = np.random.normal(0,1,n)\n",
    "Y = np.random.normal(0,1,n)\n",
    "\n",
    "plt.scatter(X,Y)\n",
    "plt.show()"
   ]
  },
  {
   "cell_type": "markdown",
   "metadata": {
    "colab_type": "text",
    "id": "mYR7SBHAwPBD"
   },
   "source": [
    "# 給定顏色與圖形形狀\n",
    "\n",
    "產出數值介於0~10的array，並以0.4為間隔，\n",
    "\n",
    "畫出y=x, y=x², y=x³ 的圖表，\n",
    "\n",
    "r 代表紅色、兩個-代表虛線，\n",
    "\n",
    "b代表藍色、s代表方塊，\n",
    "\n",
    "g代表綠色，^代表三角形\n",
    "\n",
    "![image.png](attachment:image.png)"
   ]
  },
  {
   "cell_type": "code",
   "execution_count": 8,
   "metadata": {
    "colab": {},
    "colab_type": "code",
    "id": "eyMCGKFHwPBE",
    "outputId": "cc94b06a-1adb-4c7f-b85c-9e7eb7978bfe"
   },
   "outputs": [
    {
     "name": "stdout",
     "output_type": "stream",
     "text": [
      "t: [0.  0.7 1.4 2.1 2.8 3.5 4.2 4.9 5.6 6.3 7.  7.7 8.4 9.1 9.8]\n"
     ]
    },
    {
     "data": {
      "text/plain": [
       "[<matplotlib.lines.Line2D at 0x7f9ce50a5f10>,\n",
       " <matplotlib.lines.Line2D at 0x7f9ce50a5d60>,\n",
       " <matplotlib.lines.Line2D at 0x7f9ce50a52b0>]"
      ]
     },
     "execution_count": 8,
     "metadata": {},
     "output_type": "execute_result"
    },
    {
     "data": {
      "image/png": "[encoded data removed]",
      "text/plain": [
       "<Figure size 432x288 with 1 Axes>"
      ]
     },
     "metadata": {
      "needs_background": "light"
     },
     "output_type": "display_data"
    }
   ],
   "source": [
    "t = np.arange(0., 10., 0.7)\n",
    "print(\"t: \"+str(t))\n",
    "\n",
    "plt.plot(t, t, 'r--', t, t**2, 'bs', t**3, 'g^' ) "
   ]
  },
  {
   "cell_type": "code",
   "execution_count": 9,
   "metadata": {
    "colab": {},
    "colab_type": "code",
    "id": "WiYAsSyHwPBG",
    "outputId": "de19ed0c-74b7-4a39-ec4c-43621bbdcbfb"
   },
   "outputs": [
    {
     "data": {
      "text/plain": [
       "<BarContainer object of 15 artists>"
      ]
     },
     "execution_count": 9,
     "metadata": {},
     "output_type": "execute_result"
    },
    {
     "data": {
      "image/png": "[encoded data removed]",
      "text/plain": [
       "<Figure size 432x288 with 1 Axes>"
      ]
     },
     "metadata": {
      "needs_background": "light"
     },
     "output_type": "display_data"
    }
   ],
   "source": [
    "x = np.arange(0., 10., 0.7)\n",
    "y = np.arange(0., 10., 0.7)\n",
    "\n",
    "plt.bar(x, y)"
   ]
  },
  {
   "cell_type": "code",
   "execution_count": null,
   "metadata": {
    "colab": {},
    "colab_type": "code",
    "id": "B50vqZjMwPBI"
   },
   "outputs": [],
   "source": []
  }
 ],
 "metadata": {
  "colab": {
   "name": "Data Visualization_Day-1_example.ipynb",
   "provenance": []
  },
  "kernelspec": {
   "display_name": "Python 3",
   "language": "python",
   "name": "python3"
  },
  "language_info": {
   "codemirror_mode": {
    "name": "ipython",
    "version": 3
   },
   "file_extension": ".py",
   "mimetype": "text/x-python",
   "name": "python",
   "nbconvert_exporter": "python",
   "pygments_lexer": "ipython3",
   "version": "3.8.5"
  }
 },
 "nbformat": 4,
 "nbformat_minor": 1
}
