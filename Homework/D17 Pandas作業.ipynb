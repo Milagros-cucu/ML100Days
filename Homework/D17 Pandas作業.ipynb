{
 "cells": [
  {
   "cell_type": "markdown",
   "metadata": {},
   "source": [
    "# 作業題⽬"
   ]
  },
  {
   "cell_type": "code",
   "execution_count": 1,
   "metadata": {},
   "outputs": [],
   "source": [
    "#在速度較慢的時候，可以先從哪邊開始檢查？"
   ]
  },
  {
   "cell_type": "code",
   "execution_count": 23,
   "metadata": {},
   "outputs": [
    {
     "name": "stdout",
     "output_type": "stream",
     "text": [
      "：先檢查有沒有使⽤到⾃訂義的函數，如果有可以查詢pandas中是否有⽀援相關演算法，如果以上都沒辦法改善，那可以從資料讀取⽅式下⼿，將要讀取的資料改成pkl檔\n"
     ]
    }
   ],
   "source": [
    "print('：先檢查有沒有使⽤到⾃訂義的函數，如果有可以查詢pandas中是否有⽀援相關演算法，如果以上都沒辦法改善，那可以從資料讀取⽅式下⼿，將要讀取的資料改成pkl檔')"
   ]
  },
  {
   "cell_type": "code",
   "execution_count": null,
   "metadata": {},
   "outputs": [],
   "source": [
    "# 資料過⼤時應採取什麼⽅式讓記憶體占⽤量下降？"
   ]
  },
  {
   "cell_type": "code",
   "execution_count": 7,
   "metadata": {},
   "outputs": [
    {
     "name": "stdout",
     "output_type": "stream",
     "text": [
      "將欄位的型態降級，不需要存太多元素在一個數字中。 \n",
      " 將整數型態 int 改成 uint 減少記憶體正用空間。 \n",
      " 將浮點數型態 float64 改成 float32 減少記憶體正用空間，\n"
     ]
    }
   ],
   "source": [
    "print('將欄位的型態降級，不需要存太多元素在一個數字中。', '\\n', '將整數型態 int 改成 uint 減少記憶體正用空間。', '\\n', '將浮點數型態 float64 改成 float32 減少記憶體正用空間，')"
   ]
  }
 ],
 "metadata": {
  "kernelspec": {
   "display_name": "Python 3",
   "language": "python",
   "name": "python3"
  },
  "language_info": {
   "codemirror_mode": {
    "name": "ipython",
    "version": 3
   },
   "file_extension": ".py",
   "mimetype": "text/x-python",
   "name": "python",
   "nbconvert_exporter": "python",
   "pygments_lexer": "ipython3",
   "version": "3.8.5"
  }
 },
 "nbformat": 4,
 "nbformat_minor": 4
}
